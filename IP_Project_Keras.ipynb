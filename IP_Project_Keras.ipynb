{
  "nbformat": 4,
  "nbformat_minor": 0,
  "metadata": {
    "colab": {
      "provenance": [],
      "include_colab_link": true
    },
    "kernelspec": {
      "name": "python3",
      "display_name": "Python 3"
    },
    "language_info": {
      "name": "python"
    },
    "accelerator": "GPU",
    "gpuClass": "standard"
  },
  "cells": [
    {
      "cell_type": "markdown",
      "metadata": {
        "id": "view-in-github",
        "colab_type": "text"
      },
      "source": [
        "<a href=\"https://colab.research.google.com/github/Hriman-Mahanta/Flood_Image_Segmentation/blob/main/IP_Project_Keras.ipynb\" target=\"_parent\"><img src=\"https://colab.research.google.com/assets/colab-badge.svg\" alt=\"Open In Colab\"/></a>"
      ]
    },
    {
      "cell_type": "code",
      "execution_count": null,
      "metadata": {
        "id": "n3tsmSyz1gxr"
      },
      "outputs": [],
      "source": [
        "import numpy as np\n",
        "from keras.models import Model\n",
        "from keras.layers import Input, concatenate, Conv2D, MaxPooling2D, Conv2DTranspose\n",
        "from keras.optimizers import Adam\n",
        "from keras import backend as K\n",
        "import os\n",
        "import cv2\n",
        "from sklearn.model_selection import train_test_split"
      ]
    },
    {
      "cell_type": "code",
      "source": [
        "from google.colab import drive\n",
        "drive.mount('/content/drive')\n"
      ],
      "metadata": {
        "colab": {
          "base_uri": "https://localhost:8080/"
        },
        "id": "a7kV3EVfFBUn",
        "outputId": "307373d0-02f7-4381-cb7c-6ff0dff80ce3"
      },
      "execution_count": null,
      "outputs": [
        {
          "output_type": "stream",
          "name": "stdout",
          "text": [
            "Drive already mounted at /content/drive; to attempt to forcibly remount, call drive.mount(\"/content/drive\", force_remount=True).\n"
          ]
        }
      ]
    },
    {
      "cell_type": "code",
      "source": [
        "# Define the input shape of the images\n",
        "input_shape = (256, 256, 3)\n",
        "\n",
        "# Define the number of filters for each convolutional layer\n",
        "n_filters = 64\n",
        "\n",
        "# Define the input layer\n",
        "inputs = Input(input_shape)"
      ],
      "metadata": {
        "id": "GIZ9dvPAClpc"
      },
      "execution_count": null,
      "outputs": []
    },
    {
      "cell_type": "code",
      "source": [
        "# Load the dataset\n",
        "\n",
        "path=\"/content/drive/MyDrive/Refined_Images/DATA_HAR\"\n",
        "\n",
        "data = {}  # Create an empty dictionary to store image-mask filename pairs\n",
        "\n",
        "for filename in os.listdir(path):\n",
        "    if filename.endswith('vhr.tif'):\n",
        "        img_filename = filename\n",
        "        mask_filename = filename.replace('vhr.tif', 'mask_flood.tif')\n",
        "        \n",
        "        if os.path.exists(os.path.join(path, mask_filename)):\n",
        "            data[img_filename] = mask_filename  # Store the image-mask filename pair in the dictionary\n",
        "            \n",
        "X = []  # Create an empty list to store images\n",
        "Y = []  # Create an empty list to store masks\n",
        "\n",
        "for img_filename, mask_filename in data.items():\n",
        "    img = cv2.imread(os.path.join(path, img_filename), cv2.IMREAD_COLOR)\n",
        "    img = cv2.resize(img, (256, 256))\n",
        "    print(img.shape)\n",
        "    X.append(img)\n",
        "    \n",
        "    mask = cv2.imread(os.path.join(path, mask_filename), cv2.IMREAD_COLOR)\n",
        "    mask = cv2.resize(mask, (256, 256))\n",
        "    print(mask.shape)\n",
        "    Y.append(mask)\n",
        "\n",
        "\n",
        "# Convert the lists to NumPy arrays\n",
        "X = np.array(X)\n",
        "Y = np.array(Y)\n",
        "\n",
        "# Split the dataset into training, validation, and test sets\n",
        "n_samples = X.shape[0]\n",
        "idx = np.arange(n_samples)\n",
        "np.random.shuffle(idx)\n",
        "X_train = X[idx[:int(0.7*n_samples)]]\n",
        "Y_train = Y[idx[:int(0.7*n_samples)]]\n",
        "X_val = X[idx[int(0.7*n_samples):int(0.85*n_samples)]]\n",
        "Y_val = Y[idx[int(0.7*n_samples):int(0.85*n_samples)]]\n",
        "X_test = X[idx[int(0.85*n_samples):]]\n",
        "Y_test = Y[idx[int(0.85*n_samples):]]\n"
      ],
      "metadata": {
        "id": "9vl2GcA-E5L7"
      },
      "execution_count": null,
      "outputs": []
    },
    {
      "cell_type": "code",
      "source": [
        "# Define the contracting path of the UNet model\n",
        "conv1 = Conv2D(n_filters, (3, 3), activation='relu', padding='same')(inputs)\n",
        "conv1 = Conv2D(n_filters, (3, 3), activation='relu', padding='same')(conv1)\n",
        "pool1 = MaxPooling2D(pool_size=(2, 2))(conv1)\n",
        "\n",
        "conv2 = Conv2D(n_filters*2, (3, 3), activation='relu', padding='same')(pool1)\n",
        "conv2 = Conv2D(n_filters*2, (3, 3), activation='relu', padding='same')(conv2)\n",
        "pool2 = MaxPooling2D(pool_size=(2, 2))(conv2)\n",
        "\n",
        "conv3 = Conv2D(n_filters*4, (3, 3), activation='relu', padding='same')(pool2)\n",
        "conv3 = Conv2D(n_filters*4, (3, 3), activation='relu', padding='same')(conv3)\n",
        "pool3 = MaxPooling2D(pool_size=(2, 2))(conv3)\n",
        "\n",
        "conv4 = Conv2D(n_filters*8, (3, 3), activation='relu', padding='same')(pool3)\n",
        "conv4 = Conv2D(n_filters*8, (3, 3), activation='relu', padding='same')(conv4)\n",
        "pool4 = MaxPooling2D(pool_size=(2, 2))(conv4)\n",
        "\n",
        "conv5 = Conv2D(n_filters*16, (3, 3), activation='relu', padding='same')(pool4)\n",
        "conv5 = Conv2D(n_filters*16, (3, 3), activation='relu', padding='same')(conv5)\n",
        "\n",
        "# Define the expansive path of the UNet model\n",
        "up6 = Conv2DTranspose(n_filters*8, (2, 2), strides=(2, 2), padding='same')(conv5)\n",
        "concat6 = concatenate([up6, conv4])\n",
        "conv6 = Conv2D(n_filters*8, (3, 3), activation='relu', padding='same')(concat6)\n",
        "conv6 = Conv2D(n_filters*8, (3, 3), activation='relu', padding='same')(conv6)\n",
        "\n",
        "up7 = Conv2DTranspose(n_filters*4, (2, 2), strides=(2, 2), padding='same')(conv6)\n",
        "concat7 = concatenate([up7, conv3])\n",
        "conv7 = Conv2D(n_filters*4, (3, 3), activation='relu', padding='same')(concat7)\n",
        "conv7 = Conv2D(n_filters*4, (3, 3), activation='relu', padding='same')(conv7)\n",
        "\n",
        "up8 = Conv2DTranspose(n_filters*2, (2, 2), strides=(2, 2), padding='same')(conv7)\n",
        "concat8 = concatenate([up8, conv2])\n",
        "conv8 = Conv2D(n_filters*2, (3, 3), activation='relu', padding='same')(concat8)\n",
        "conv8 = Conv2D(n_filters*2, (3, 3), activation='relu', padding='same')(conv8)\n",
        "\n",
        "up9 = Conv2DTranspose(n_filters, (2, 2), strides=(2, 2), padding='same')(conv8)\n",
        "concat9 = concatenate([up9, conv1])\n",
        "conv9 = Conv2D(n_filters, (3, 3), activation='relu', padding='same')(concat9)\n",
        "conv9 = Conv2D(n_filters, (3, 3), activation='relu', padding='same')(conv9)"
      ],
      "metadata": {
        "id": "sO1tW930DAVu"
      },
      "execution_count": null,
      "outputs": []
    },
    {
      "cell_type": "code",
      "source": [
        "# Define the output layer with sigmoid activation\n",
        "outputs = Conv2D(3, (1, 1), activation='sigmoid')(conv9)"
      ],
      "metadata": {
        "id": "CdTrdDyNDcIt"
      },
      "execution_count": null,
      "outputs": []
    },
    {
      "cell_type": "code",
      "source": [
        "def iou_coef(y_true, y_pred, smooth=1):\n",
        "    intersection = K.sum(K.abs(y_true * y_pred), axis=[1, 2, 3])\n",
        "    union = K.sum(y_true, axis=[1, 2, 3]) + K.sum(y_pred, axis=[1, 2, 3]) - intersection\n",
        "    iou = K.mean((intersection + smooth) / (union + smooth), axis=0)\n",
        "    return iou\n",
        "\n",
        "def dice_coef(y_true, y_pred, smooth=1):\n",
        "    intersection = K.sum(y_true * y_pred, axis=[1, 2, 3])\n",
        "    dice = K.mean((2. * intersection + smooth) / (K.sum(y_true, axis=[1, 2, 3]) + K.sum(y_pred, axis=[1, 2, 3]) + smooth), axis=0)\n",
        "    return dice"
      ],
      "metadata": {
        "id": "azk4Em5Etk6p"
      },
      "execution_count": null,
      "outputs": []
    },
    {
      "cell_type": "code",
      "source": [
        "# Define the model with input and output layers\n",
        "model = Model(inputs=[inputs], outputs=[outputs])"
      ],
      "metadata": {
        "id": "xA1HaYqrDojO"
      },
      "execution_count": null,
      "outputs": []
    },
    {
      "cell_type": "code",
      "source": [
        "# Define the loss function as binary cross-entropy and optimizer as Adam\n",
        "model.compile(optimizer=Adam(lr=2e-3), loss='binary_crossentropy', metrics=['accuracy', dice_coef, iou_coef])"
      ],
      "metadata": {
        "id": "jjbW2Gi0D0tj"
      },
      "execution_count": null,
      "outputs": []
    },
    {
      "cell_type": "code",
      "source": [
        "model.summary()"
      ],
      "metadata": {
        "id": "5OLma2A3EEzc"
      },
      "execution_count": null,
      "outputs": []
    },
    {
      "cell_type": "code",
      "source": [
        "model.fit(X_train, Y_train, epochs=10, batch_size=32, validation_data=(X_val, Y_val))"
      ],
      "metadata": {
        "colab": {
          "base_uri": "https://localhost:8080/"
        },
        "id": "6-VyKkypEHLt",
        "outputId": "4caf9149-fb86-458f-b6c8-ebe8160090c2"
      },
      "execution_count": null,
      "outputs": [
        {
          "output_type": "stream",
          "name": "stdout",
          "text": [
            "Epoch 1/10\n",
            "42/42 [==============================] - 124s 2s/step - loss: 0.6541 - accuracy: 0.3028 - dice_coef: 0.0399 - iou_coef: 0.0212 - val_loss: 0.2356 - val_accuracy: 0.2740 - val_dice_coef: 0.0406 - val_iou_coef: 0.0213\n",
            "Epoch 2/10\n",
            "42/42 [==============================] - 59s 1s/step - loss: 0.2258 - accuracy: 0.3781 - dice_coef: 0.0402 - iou_coef: 0.0211 - val_loss: 0.2271 - val_accuracy: 0.1754 - val_dice_coef: 0.0412 - val_iou_coef: 0.0217\n",
            "Epoch 3/10\n",
            "42/42 [==============================] - 59s 1s/step - loss: 0.2216 - accuracy: 0.2876 - dice_coef: 0.0409 - iou_coef: 0.0214 - val_loss: 0.2322 - val_accuracy: 0.4180 - val_dice_coef: 0.0509 - val_iou_coef: 0.0271\n",
            "Epoch 4/10\n",
            "42/42 [==============================] - 59s 1s/step - loss: 0.2222 - accuracy: 0.2699 - dice_coef: 0.0429 - iou_coef: 0.0226 - val_loss: 0.2291 - val_accuracy: 0.2669 - val_dice_coef: 0.0499 - val_iou_coef: 0.0265\n",
            "Epoch 5/10\n",
            "42/42 [==============================] - 59s 1s/step - loss: 0.2191 - accuracy: 0.2388 - dice_coef: 0.0426 - iou_coef: 0.0224 - val_loss: 0.2905 - val_accuracy: 0.8048 - val_dice_coef: 0.0699 - val_iou_coef: 0.0383\n",
            "Epoch 6/10\n",
            "42/42 [==============================] - 59s 1s/step - loss: 0.5516 - accuracy: 0.3356 - dice_coef: 0.0460 - iou_coef: 0.0249 - val_loss: 0.4257 - val_accuracy: 1.2489e-06 - val_dice_coef: 0.0322 - val_iou_coef: 0.0167\n",
            "Epoch 7/10\n",
            "42/42 [==============================] - 59s 1s/step - loss: 0.5060 - accuracy: 0.1937 - dice_coef: 0.0414 - iou_coef: 0.0219 - val_loss: 0.2837 - val_accuracy: 0.2272 - val_dice_coef: 0.0636 - val_iou_coef: 0.0345\n",
            "Epoch 8/10\n",
            "42/42 [==============================] - 58s 1s/step - loss: 0.3022 - accuracy: 0.3260 - dice_coef: 0.0371 - iou_coef: 0.0195 - val_loss: 0.2398 - val_accuracy: 0.0199 - val_dice_coef: 0.0282 - val_iou_coef: 0.0146\n",
            "Epoch 9/10\n",
            "42/42 [==============================] - 56s 1s/step - loss: 0.2253 - accuracy: 0.2782 - dice_coef: 0.0383 - iou_coef: 0.0200 - val_loss: 0.2514 - val_accuracy: 0.5229 - val_dice_coef: 0.0562 - val_iou_coef: 0.0301\n",
            "Epoch 10/10\n",
            "42/42 [==============================] - 57s 1s/step - loss: 0.2316 - accuracy: 0.3456 - dice_coef: 0.0390 - iou_coef: 0.0205 - val_loss: 0.2333 - val_accuracy: 0.2286 - val_dice_coef: 0.0288 - val_iou_coef: 0.0149\n"
          ]
        },
        {
          "output_type": "execute_result",
          "data": {
            "text/plain": [
              "<keras.callbacks.History at 0x7f1a71c71420>"
            ]
          },
          "metadata": {},
          "execution_count": 16
        }
      ]
    },
    {
      "cell_type": "code",
      "source": [],
      "metadata": {
        "id": "bvynifzVEowz"
      },
      "execution_count": null,
      "outputs": []
    }
  ]
}