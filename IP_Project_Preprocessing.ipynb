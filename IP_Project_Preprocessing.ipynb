{
  "nbformat": 4,
  "nbformat_minor": 0,
  "metadata": {
    "colab": {
      "provenance": [],
      "authorship_tag": "ABX9TyOVqI9avvs3lavGBnP0MUdQ",
      "include_colab_link": true
    },
    "kernelspec": {
      "name": "python3",
      "display_name": "Python 3"
    },
    "language_info": {
      "name": "python"
    }
  },
  "cells": [
    {
      "cell_type": "markdown",
      "metadata": {
        "id": "view-in-github",
        "colab_type": "text"
      },
      "source": [
        "<a href=\"https://colab.research.google.com/github/Hriman-Mahanta/Flood_Image_Segmentation/blob/main/IP_Project_Preprocessing.ipynb\" target=\"_parent\"><img src=\"https://colab.research.google.com/assets/colab-badge.svg\" alt=\"Open In Colab\"/></a>"
      ]
    },
    {
      "cell_type": "code",
      "execution_count": null,
      "metadata": {
        "id": "-40pyk3d6Y3i"
      },
      "outputs": [],
      "source": [
        "import os\n",
        "from pathlib import Path\n",
        "from PIL import Image\n",
        "import matplotlib.pyplot as plt"
      ]
    },
    {
      "cell_type": "code",
      "source": [
        "from google.colab import drive\n",
        "drive.mount('/content/drive')"
      ],
      "metadata": {
        "id": "xhG6ZbHh6jjo"
      },
      "execution_count": null,
      "outputs": []
    },
    {
      "cell_type": "code",
      "source": [
        "def get_tuple_files(path):\n",
        "    # Get all image files in the given path\n",
        "    files = get_image_files(path)\n",
        "    \n",
        "    # Filter the files to keep only those ending with 'vhr.tif'\n",
        "    files = [f for f in files if f.name.endswith('vhr.tif')]\n",
        "    \n",
        "    # Return the filtered list of files\n",
        "    return files\n",
        "\n",
        "# Call the function to get the tuple files\n",
        "files = get_tuple_files(path)"
      ],
      "metadata": {
        "id": "qP2jgA-56kBr"
      },
      "execution_count": null,
      "outputs": []
    },
    {
      "cell_type": "code",
      "source": [
        "def label_func_flooded(x):\n",
        "    return x.parents[0] / 'flooded1m.tif'"
      ],
      "metadata": {
        "id": "l5D-qk7O6sjz"
      },
      "execution_count": null,
      "outputs": []
    },
    {
      "cell_type": "code",
      "source": [
        "# Create the directory DATA_HAR to store the preprocessed images\n",
        "os.makedirs(\"DATA_HAR\", exist_ok=True)"
      ],
      "metadata": {
        "id": "plgPTn_X6uQv"
      },
      "execution_count": null,
      "outputs": []
    },
    {
      "cell_type": "code",
      "source": [
        "path = Path('/content/drive/MyDrive/dataset')\n",
        "files = get_tuple_files(path)"
      ],
      "metadata": {
        "id": "BkwDWpuK6xwM"
      },
      "execution_count": null,
      "outputs": []
    },
    {
      "cell_type": "code",
      "source": [
        "# Process each image in the dataset\n",
        "for j, fil in enumerate(files, start=1):\n",
        "    im = PILImage.create(fil)\n",
        "    mask = PILMask.create(label_func_flooded(fil))\n",
        "    im = image2tensor(im.reshape(1024, 1024, resample=Image.BICUBIC)).cuda()\n",
        "    mask = image2tensor(mask.reshape(1024, 1024, resample=Image.BICUBIC)).cuda()\n",
        "    \n",
        "    size = 512  # patch size\n",
        "    stride = 512  # patch stride\n",
        "    \n",
        "    # Extract patches from the image and mask\n",
        "    img = im.unfold(1, size, stride).unfold(2, size, stride)\n",
        "    img = img.reshape((3, 4, 512, 512))\n",
        "    mask = mask.unfold(1, size, stride).unfold(2, size, stride)\n",
        "    mask = mask.reshape((4, 512, 512))\n",
        "    img = img.permute(1, 2, 3, 0)\n",
        "    \n",
        "    # Save each patch as a separate image file\n",
        "    for i in range(4):\n",
        "        img_patch = PILImage.create(img[i].cpu())\n",
        "        mask_patch = PILMask.create(mask[i].cpu())\n",
        "        img_patch.save(f\"DATA_HAR/{fil.stem}_{i}_vhr.tif\")\n",
        "        mask_patch.save(f\"DATA_HAR/{fil.stem}_{i}_mask_flood.tif\")\n",
        "        \n",
        "    print(j)\n"
      ],
      "metadata": {
        "id": "lstnI8v36zP-"
      },
      "execution_count": null,
      "outputs": []
    },
    {
      "cell_type": "code",
      "source": [
        "# Display example images\n",
        "im = PILImage.create(files[0]).reshape(512, 512, resample=3)\n",
        "mask_flood = PILMask.create(label_func_flooded(files[0])).reshape(512, 512, resample=3)\n",
        "\n",
        "fig, axarr = plt.subplots(1, 2, figsize=(25, 25), sharex=True, sharey=True)\n",
        "axarr[0].imshow(im)\n",
        "axarr[0].set_title('VHR Image')\n",
        "axarr[1].imshow(mask_flood)\n",
        "axarr[1].set_title('Flood Damage Mask Patch')"
      ],
      "metadata": {
        "id": "nxGsyNmE61iq"
      },
      "execution_count": null,
      "outputs": []
    },
    {
      "cell_type": "code",
      "source": [
        "# Copy the directory DATA_HAR to destination folder\n",
        "destination_folder = '/content/drive/MyDrive/Refined_Images'\n",
        "os.makedirs(destination_folder, exist_ok=True)\n",
        "os.system(f'cp -r DATA_HAR/* {destination_folder}')"
      ],
      "metadata": {
        "id": "s1nXVe5I632j"
      },
      "execution_count": null,
      "outputs": []
    },
    {
      "cell_type": "code",
      "source": [
        "# Remove the temporary DATA_HAR directory\n",
        "os.system('rm -r DATA_HAR')"
      ],
      "metadata": {
        "id": "uA53b9tb66H_"
      },
      "execution_count": null,
      "outputs": []
    }
  ]
}